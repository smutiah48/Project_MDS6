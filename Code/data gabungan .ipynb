{
 "cells": [
  {
   "cell_type": "code",
   "execution_count": 7,
   "id": "e544eb07",
   "metadata": {},
   "outputs": [],
   "source": [
    "import pandas as pd\n",
    "import os"
   ]
  },
  {
   "cell_type": "code",
   "execution_count": 8,
   "id": "58862155",
   "metadata": {},
   "outputs": [],
   "source": [
    "# Folder tempat file CSV berada\n",
    "folder_path = 'D:/Sinopsis S2/New folder/Semester 1/Semester 2/Managemen Data Base/Tugas Kelompok 6/kumpulin data'"
   ]
  },
  {
   "cell_type": "code",
   "execution_count": 9,
   "id": "45d99e25",
   "metadata": {},
   "outputs": [],
   "source": [
    "# Mendapatkan daftar semua file CSV dalam folder\n",
    "csv_files = [file for file in os.listdir(folder_path) if file.endswith('.csv')]\n",
    "\n",
    "# List untuk menampung data dari setiap file CSV\n",
    "dataframes = []"
   ]
  },
  {
   "cell_type": "code",
   "execution_count": 10,
   "id": "09bf9214",
   "metadata": {},
   "outputs": [],
   "source": [
    "# Membaca dan menggabungkan file CSV\n",
    "for file in csv_files:\n",
    "    file_path = os.path.join(folder_path, file)\n",
    "    df = pd.read_csv(file_path)\n",
    "    dataframes.append(df)\n",
    "\n",
    "# Menggabungkan semua dataframes\n",
    "combined_df = pd.concat(dataframes, ignore_index=True)"
   ]
  },
  {
   "cell_type": "code",
   "execution_count": 11,
   "id": "6eb3292f",
   "metadata": {},
   "outputs": [],
   "source": [
    "# Menyimpan DataFrame gabungan ke dalam file CSV baru\n",
    "combined_df.to_csv('Data Buku.csv', index=False)"
   ]
  },
  {
   "cell_type": "code",
   "execution_count": 12,
   "id": "bd85bf2e",
   "metadata": {},
   "outputs": [],
   "source": [
    "combined_df.to_excel('Data Buku.xlsx', index=False)"
   ]
  },
  {
   "cell_type": "code",
   "execution_count": null,
   "id": "b804840c",
   "metadata": {},
   "outputs": [],
   "source": []
  }
 ],
 "metadata": {
  "kernelspec": {
   "display_name": "Python 3",
   "language": "python",
   "name": "python3"
  },
  "language_info": {
   "codemirror_mode": {
    "name": "ipython",
    "version": 3
   },
   "file_extension": ".py",
   "mimetype": "text/x-python",
   "name": "python",
   "nbconvert_exporter": "python",
   "pygments_lexer": "ipython3",
   "version": "3.8.8"
  }
 },
 "nbformat": 4,
 "nbformat_minor": 5
}
